{
  "nbformat": 4,
  "nbformat_minor": 0,
  "metadata": {
    "colab": {
      "provenance": [],
      "authorship_tag": "ABX9TyNpP4ePNx7+iqa8PfJPSyz5",
      "include_colab_link": true
    },
    "kernelspec": {
      "name": "python3",
      "display_name": "Python 3"
    },
    "language_info": {
      "name": "python"
    }
  },
  "cells": [
    {
      "cell_type": "markdown",
      "metadata": {
        "id": "view-in-github",
        "colab_type": "text"
      },
      "source": [
        "<a href=\"https://colab.research.google.com/github/dladutjs66/web-platform-tests/blob/master/var_crawling.ipynb\" target=\"_parent\"><img src=\"https://colab.research.google.com/assets/colab-badge.svg\" alt=\"Open In Colab\"/></a>"
      ]
    },
    {
      "cell_type": "code",
      "execution_count": 1,
      "metadata": {
        "colab": {
          "base_uri": "https://localhost:8080/"
        },
        "id": "18SJ2-65aFeI",
        "outputId": "54e6a904-2f22-4ebe-ef25-8622e297aec1"
      },
      "outputs": [
        {
          "output_type": "stream",
          "name": "stdout",
          "text": [
            "Collecting currency-symbols\n",
            "  Downloading currency_symbols-2.0.3-py3-none-any.whl.metadata (2.4 kB)\n",
            "Downloading currency_symbols-2.0.3-py3-none-any.whl (5.0 kB)\n",
            "Installing collected packages: currency-symbols\n",
            "Successfully installed currency-symbols-2.0.3\n",
            "Collecting PublicDataReader\n",
            "  Downloading PublicDataReader-1.1.0-py3-none-any.whl.metadata (16 kB)\n",
            "Requirement already satisfied: beautifulsoup4 in /usr/local/lib/python3.11/dist-packages (from PublicDataReader) (4.12.3)\n",
            "Requirement already satisfied: lxml in /usr/local/lib/python3.11/dist-packages (from PublicDataReader) (5.3.0)\n",
            "Requirement already satisfied: numpy in /usr/local/lib/python3.11/dist-packages (from PublicDataReader) (1.26.4)\n",
            "Requirement already satisfied: pandas in /usr/local/lib/python3.11/dist-packages (from PublicDataReader) (2.2.2)\n",
            "Requirement already satisfied: requests in /usr/local/lib/python3.11/dist-packages (from PublicDataReader) (2.32.3)\n",
            "Collecting xmltodict (from PublicDataReader)\n",
            "  Downloading xmltodict-0.14.2-py2.py3-none-any.whl.metadata (8.0 kB)\n",
            "Requirement already satisfied: soupsieve>1.2 in /usr/local/lib/python3.11/dist-packages (from beautifulsoup4->PublicDataReader) (2.6)\n",
            "Requirement already satisfied: python-dateutil>=2.8.2 in /usr/local/lib/python3.11/dist-packages (from pandas->PublicDataReader) (2.8.2)\n",
            "Requirement already satisfied: pytz>=2020.1 in /usr/local/lib/python3.11/dist-packages (from pandas->PublicDataReader) (2024.2)\n",
            "Requirement already satisfied: tzdata>=2022.7 in /usr/local/lib/python3.11/dist-packages (from pandas->PublicDataReader) (2024.2)\n",
            "Requirement already satisfied: charset-normalizer<4,>=2 in /usr/local/lib/python3.11/dist-packages (from requests->PublicDataReader) (3.4.1)\n",
            "Requirement already satisfied: idna<4,>=2.5 in /usr/local/lib/python3.11/dist-packages (from requests->PublicDataReader) (3.10)\n",
            "Requirement already satisfied: urllib3<3,>=1.21.1 in /usr/local/lib/python3.11/dist-packages (from requests->PublicDataReader) (2.3.0)\n",
            "Requirement already satisfied: certifi>=2017.4.17 in /usr/local/lib/python3.11/dist-packages (from requests->PublicDataReader) (2024.12.14)\n",
            "Requirement already satisfied: six>=1.5 in /usr/local/lib/python3.11/dist-packages (from python-dateutil>=2.8.2->pandas->PublicDataReader) (1.17.0)\n",
            "Downloading PublicDataReader-1.1.0-py3-none-any.whl (3.2 MB)\n",
            "\u001b[2K   \u001b[90m━━━━━━━━━━━━━━━━━━━━━━━━━━━━━━━━━━━━━━━━\u001b[0m \u001b[32m3.2/3.2 MB\u001b[0m \u001b[31m29.2 MB/s\u001b[0m eta \u001b[36m0:00:00\u001b[0m\n",
            "\u001b[?25hDownloading xmltodict-0.14.2-py2.py3-none-any.whl (10.0 kB)\n",
            "Installing collected packages: xmltodict, PublicDataReader\n",
            "Successfully installed PublicDataReader-1.1.0 xmltodict-0.14.2\n",
            "Collecting finance-datareader\n",
            "  Downloading finance_datareader-0.9.94-py3-none-any.whl.metadata (466 bytes)\n",
            "Requirement already satisfied: pandas>=0.19.2 in /usr/local/lib/python3.11/dist-packages (from finance-datareader) (2.2.2)\n",
            "Requirement already satisfied: requests>=2.3.0 in /usr/local/lib/python3.11/dist-packages (from finance-datareader) (2.32.3)\n",
            "Collecting requests-file (from finance-datareader)\n",
            "  Downloading requests_file-2.1.0-py2.py3-none-any.whl.metadata (1.7 kB)\n",
            "Requirement already satisfied: lxml in /usr/local/lib/python3.11/dist-packages (from finance-datareader) (5.3.0)\n",
            "Requirement already satisfied: tqdm in /usr/local/lib/python3.11/dist-packages (from finance-datareader) (4.67.1)\n",
            "Requirement already satisfied: numpy>=1.23.2 in /usr/local/lib/python3.11/dist-packages (from pandas>=0.19.2->finance-datareader) (1.26.4)\n",
            "Requirement already satisfied: python-dateutil>=2.8.2 in /usr/local/lib/python3.11/dist-packages (from pandas>=0.19.2->finance-datareader) (2.8.2)\n",
            "Requirement already satisfied: pytz>=2020.1 in /usr/local/lib/python3.11/dist-packages (from pandas>=0.19.2->finance-datareader) (2024.2)\n",
            "Requirement already satisfied: tzdata>=2022.7 in /usr/local/lib/python3.11/dist-packages (from pandas>=0.19.2->finance-datareader) (2024.2)\n",
            "Requirement already satisfied: charset-normalizer<4,>=2 in /usr/local/lib/python3.11/dist-packages (from requests>=2.3.0->finance-datareader) (3.4.1)\n",
            "Requirement already satisfied: idna<4,>=2.5 in /usr/local/lib/python3.11/dist-packages (from requests>=2.3.0->finance-datareader) (3.10)\n",
            "Requirement already satisfied: urllib3<3,>=1.21.1 in /usr/local/lib/python3.11/dist-packages (from requests>=2.3.0->finance-datareader) (2.3.0)\n",
            "Requirement already satisfied: certifi>=2017.4.17 in /usr/local/lib/python3.11/dist-packages (from requests>=2.3.0->finance-datareader) (2024.12.14)\n",
            "Requirement already satisfied: six>=1.5 in /usr/local/lib/python3.11/dist-packages (from python-dateutil>=2.8.2->pandas>=0.19.2->finance-datareader) (1.17.0)\n",
            "Downloading finance_datareader-0.9.94-py3-none-any.whl (89 kB)\n",
            "\u001b[2K   \u001b[90m━━━━━━━━━━━━━━━━━━━━━━━━━━━━━━━━━━━━━━━━\u001b[0m \u001b[32m89.3/89.3 kB\u001b[0m \u001b[31m1.9 MB/s\u001b[0m eta \u001b[36m0:00:00\u001b[0m\n",
            "\u001b[?25hDownloading requests_file-2.1.0-py2.py3-none-any.whl (4.2 kB)\n",
            "Installing collected packages: requests-file, finance-datareader\n",
            "Successfully installed finance-datareader-0.9.94 requests-file-2.1.0\n",
            "Requirement already satisfied: pandas-datareader in /usr/local/lib/python3.11/dist-packages (0.10.0)\n",
            "Requirement already satisfied: lxml in /usr/local/lib/python3.11/dist-packages (from pandas-datareader) (5.3.0)\n",
            "Requirement already satisfied: pandas>=0.23 in /usr/local/lib/python3.11/dist-packages (from pandas-datareader) (2.2.2)\n",
            "Requirement already satisfied: requests>=2.19.0 in /usr/local/lib/python3.11/dist-packages (from pandas-datareader) (2.32.3)\n",
            "Requirement already satisfied: numpy>=1.23.2 in /usr/local/lib/python3.11/dist-packages (from pandas>=0.23->pandas-datareader) (1.26.4)\n",
            "Requirement already satisfied: python-dateutil>=2.8.2 in /usr/local/lib/python3.11/dist-packages (from pandas>=0.23->pandas-datareader) (2.8.2)\n",
            "Requirement already satisfied: pytz>=2020.1 in /usr/local/lib/python3.11/dist-packages (from pandas>=0.23->pandas-datareader) (2024.2)\n",
            "Requirement already satisfied: tzdata>=2022.7 in /usr/local/lib/python3.11/dist-packages (from pandas>=0.23->pandas-datareader) (2024.2)\n",
            "Requirement already satisfied: charset-normalizer<4,>=2 in /usr/local/lib/python3.11/dist-packages (from requests>=2.19.0->pandas-datareader) (3.4.1)\n",
            "Requirement already satisfied: idna<4,>=2.5 in /usr/local/lib/python3.11/dist-packages (from requests>=2.19.0->pandas-datareader) (3.10)\n",
            "Requirement already satisfied: urllib3<3,>=1.21.1 in /usr/local/lib/python3.11/dist-packages (from requests>=2.19.0->pandas-datareader) (2.3.0)\n",
            "Requirement already satisfied: certifi>=2017.4.17 in /usr/local/lib/python3.11/dist-packages (from requests>=2.19.0->pandas-datareader) (2024.12.14)\n",
            "Requirement already satisfied: six>=1.5 in /usr/local/lib/python3.11/dist-packages (from python-dateutil>=2.8.2->pandas>=0.23->pandas-datareader) (1.17.0)\n"
          ]
        }
      ],
      "source": [
        "## 필요 라이브러리 설치\n",
        "!pip install currency-symbols\n",
        "!pip install PublicDataReader\n",
        "!pip install finance-datareader\n",
        "!pip install pandas-datareader"
      ]
    },
    {
      "cell_type": "code",
      "source": [
        "### 라이브러리 import\"\"\"\n",
        "import pandas as pd\n",
        "from tabulate import tabulate\n",
        "from datetime import datetime\n",
        "from PublicDataReader import Ecos\n",
        "import pandas_datareader as pdr\n",
        "from datetime import datetime, timedelta\n",
        "from FinanceDataReader.investing.data import InvestingDailyReader\n",
        "from tqdm import tqdm\n",
        "import time\n",
        "from currency_symbols import CurrencySymbols"
      ],
      "metadata": {
        "id": "NsIJL96CcN1W"
      },
      "execution_count": 2,
      "outputs": []
    },
    {
      "cell_type": "code",
      "source": [
        "### 날짜 지정\n",
        "start_date = '2015-01-01'\n",
        "end_date = '2024-11-26'"
      ],
      "metadata": {
        "id": "NJECzlsCcXK-"
      },
      "execution_count": 3,
      "outputs": []
    },
    {
      "cell_type": "code",
      "source": [
        "### BOK 변수 크롤링\n",
        "### bok_list에 bok 변수 명으로 이루어진 list 저장\n",
        "#BOK\n",
        "m1_bok_list = [\"BOK$521Y001$A001$D\" , \"BOK$817Y002$010503000$D\" , \"BOK$731Y001$0000036$D\" , \"BOK$731Y001$0000035$D\" , \"BOK$731Y001$0000021$D\" , \"BOK$731Y002$0000039$D\"]\n",
        "m4_bok_list = [\"BOK$731Y001$0000016$D\",\"BOK$817Y002$010102000$D\",'BOK$731Y002$0000039$D','BOK$731Y002$0000047$D']\n",
        "\n",
        "bok_list = m4_bok_list.copy()\n",
        "\n",
        "#3이 1530 종가 , 2가 시가, 5가 고가, 4가 저가\n",
        "bok_code_list = [i.split('$')[1] for i in bok_list]\n",
        "bok_code1_list = [i.split('$')[2] for i in bok_list]\n",
        "bok_freq_list = [i.split('$')[3] for i in bok_list]\n",
        "\n",
        "service_key = 'SD6GBGAU9S8F64JB2RQB'\n",
        "api = Ecos(service_key)\n",
        "dfs=[]\n",
        "for i in zip(bok_code_list,bok_code1_list,bok_freq_list):\n",
        "    code = i[0]\n",
        "    code1 = i[1]\n",
        "    freq = i[2]\n",
        "    df = api.get_statistic_search(통계표코드=code,통계항목코드1=code1 ,주기=freq, 검색시작일자=\"20150101\", 검색종료일자=end_date.replace('-',''))\n",
        "    df = df[['시점','값']]\n",
        "    df['시점'] = pd.to_datetime(df['시점'], format='%Y%m%d')\n",
        "    df = df.set_index('시점')\n",
        "    df.columns = ['BOK$' + '$'.join([code,code1,freq])]\n",
        "    dfs.append(df)\n",
        "bok_dataset = pd.concat(dfs,axis=1)\n",
        "\n",
        "bok_dataset.to_csv('bok_m4.csv',encoding='cp949')"
      ],
      "metadata": {
        "id": "ZVWU08DicZmc"
      },
      "execution_count": 4,
      "outputs": []
    },
    {
      "cell_type": "code",
      "source": [
        "### FRED 변수 크롤링\n",
        "### fred_list에 fred 변수명으로 이루어진 list 저장\n",
        "\n",
        "fred_list = [\"FRED$RIFSPPNA2P2D15NB_VALUE\" , \"FRED$T5YIE_VALUE\"]\n",
        "\n",
        "dfs=[]\n",
        "for i in fred_list:\n",
        "    i_repl = i.replace('FRED$','')\n",
        "    i_repl = i_repl.replace('_VALUE','')\n",
        "    df = pdr.get_data_fred(i_repl,start=datetime(2015,1,1),end=pd.to_datetime(end_date).date())\n",
        "    df.columns=[i]\n",
        "    dfs.append(df)\n",
        "\n",
        "fred_df = pd.concat(dfs,axis=1)\n",
        "\n",
        "fred_df.to_csv('fred_m4.csv',encoding='cp949')"
      ],
      "metadata": {
        "id": "LmFEDo4Mcb18"
      },
      "execution_count": 5,
      "outputs": []
    },
    {
      "cell_type": "code",
      "source": [
        "### INV 변수 크롤링\n",
        "### inv_ls에 inv 변수명으로 이루어진 list 저장\n",
        "### 변수명 전처리 과정으로, 필요한 전처리 규칙이 있으면 j=j.replace()에 삽입\n",
        "\n",
        "inv_ls_m4 = [\"INV$300618_CLOSE\",\"INV$EURMXN_CLOSE\",\"INV$CLC3_VOLUME\",\"INV$PL1MTRR_CLOSE\",\"INV$600415_CLOSE\",\"INV$BR1YTXX_CLOSE\",\"INV$SMC3_CLOSE\",\"INV$TFMBMC1_CLOSE\",\"INV$HOC1_VOLUME\",\"INV$TFMBMC1_VOLUME\",\"INV$LHOC3_VOLUME\",\"INV$HOC2_VOLUME\"]\n",
        "inv_ls=inv_ls_m4.copy()\n",
        "new_inv_ls=[]\n",
        "col_change_dict = {}\n",
        "for j in inv_ls:\n",
        "    org_j = j\n",
        "    j = j.replace('LBC','LXRC')\n",
        "    j = j.replace('LBC','LXRC')\n",
        "    j = j.replace('NYF','NYFV4')\n",
        "    j = j.replace('C1','c1')\n",
        "    j = j.replace('C2','c2')\n",
        "    j = j.replace('C3','c3')\n",
        "    j = j.replace('YTRR','YT=RR')\n",
        "    j = j.replace('MTXX','MT=XX')\n",
        "    j = j.replace('MTRR','MT=RR')\n",
        "    j = j.replace('MTX','MT=X')\n",
        "    j = j.replace('YTXX','YT=XX')\n",
        "    j = j.replace('XAGTDSGEX','XAGTD=SGEX')\n",
        "    j_first_three = j.split('_')[0].split('$')[1][:3]\n",
        "    j_last_three = j.split('_')[0].split('$')[1][-3:]\n",
        "    if len(j.split('_')[0].split('$')) == 3:\n",
        "      add_str = j.split('_')[0].split('$')[-1]\n",
        "    else:\n",
        "      add_str = 'None'\n",
        "    if_currency_first = CurrencySymbols.get_symbol(j_first_three)\n",
        "    if_currency_last = CurrencySymbols.get_symbol(j_last_three)\n",
        "    if ((type(if_currency_first) == str) & (type(if_currency_last) == str)) | (j_first_three=='WTI'):\n",
        "      if add_str != 'None':\n",
        "          j = 'INV$'+j_first_three + '/' + j_last_three+' '+add_str+'_'+j.split('_')[-1]\n",
        "      else:\n",
        "          j = 'INV$'+j_first_three + '/' + j_last_three+'_'+j.split('_')[-1]\n",
        "    else:\n",
        "        pass\n",
        "    col_change_dict[j] = org_j\n",
        "    new_inv_ls.append(j)"
      ],
      "metadata": {
        "id": "y-4md2xJcjZL"
      },
      "execution_count": 8,
      "outputs": []
    },
    {
      "cell_type": "code",
      "source": [
        "### INV 변수를 다운받는 과정\n",
        "\n",
        "end = datetime.now().strftime(\"%Y-%m-%d\")\n",
        "start='2015-01-01'\n",
        "dfs=[]\n",
        "for i in tqdm(new_inv_ls):\n",
        "    inv_repl  = i.replace('INV$','')\n",
        "    wanted_col = inv_repl.split('_')[1]\n",
        "    search_col = inv_repl.split('_')[0]\n",
        "    reader = InvestingDailyReader(symbol=search_col, start=start, end=end_date)\n",
        "    try:\n",
        "        data = reader.read()\n",
        "        data.columns = [i.upper() for i in data.columns]\n",
        "        data = data[[wanted_col]]\n",
        "        data.columns=[i]\n",
        "        dfs.append(data)\n",
        "        time.sleep(0.1)\n",
        "    except:\n",
        "        continue\n",
        "\n",
        "inv_df = pd.concat(dfs,axis=1)\n",
        "#inv_df.columns = [i.replace('/','').replace('=','').upper() for i in inv_df.columns]\n",
        "inv_df.columns = [col_change_dict[i] for i in inv_df.columns]\n",
        "\n",
        "inv_df.to_csv('inv_m4.csv',encoding='cp949')"
      ],
      "metadata": {
        "colab": {
          "base_uri": "https://localhost:8080/"
        },
        "id": "oRyyDm11cmmE",
        "outputId": "65906615-2627-4c4c-8624-ec478a7e337d"
      },
      "execution_count": 9,
      "outputs": [
        {
          "output_type": "stream",
          "name": "stderr",
          "text": [
            "100%|██████████| 12/12 [01:54<00:00,  9.51s/it]\n"
          ]
        }
      ]
    },
    {
      "cell_type": "code",
      "source": [],
      "metadata": {
        "id": "lJYLKZslc3mM"
      },
      "execution_count": null,
      "outputs": []
    }
  ]
}